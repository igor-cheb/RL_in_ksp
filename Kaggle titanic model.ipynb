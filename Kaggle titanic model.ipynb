{
 "cells": [
  {
   "cell_type": "markdown",
   "metadata": {},
   "source": [
    "https://nextjournal.com/schmudde/how-to-version-control-jupyter\n",
    "Создать классификатор с помощью логистической регрессии \n",
    "Создать классификатор с помощью random forest (библиотека scikitkearn)\n",
    "Создать классификатор с помощью XGBOOST (отдельно поставить библиотеку xgboost)"
   ]
  }
 ],
 "metadata": {
  "kernelspec": {
   "display_name": "Python 3",
   "language": "python",
   "name": "python3"
  },
  "language_info": {
   "codemirror_mode": {
    "name": "ipython",
    "version": 3
   },
   "file_extension": ".py",
   "mimetype": "text/x-python",
   "name": "python",
   "nbconvert_exporter": "python",
   "pygments_lexer": "ipython3",
   "version": "3.6.7"
  }
 },
 "nbformat": 4,
 "nbformat_minor": 2
}
